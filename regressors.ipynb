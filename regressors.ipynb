{
  "nbformat": 4,
  "nbformat_minor": 0,
  "metadata": {
    "colab": {
      "name": "regressors.ipynb",
      "provenance": [],
      "private_outputs": true
    },
    "kernelspec": {
      "name": "python3",
      "display_name": "Python 3"
    }
  },
  "cells": [
    {
      "cell_type": "code",
      "metadata": {
        "id": "xemt3F-Ichmv",
        "colab_type": "code",
        "colab": {}
      },
      "source": [
        "import pandas as pd\n",
        "import matplotlib.pyplot as plt\n",
        "import numpy as np\n"
      ],
      "execution_count": 0,
      "outputs": []
    },
    {
      "cell_type": "markdown",
      "metadata": {
        "colab_type": "text",
        "id": "zP8P8eG039Ax"
      },
      "source": [
        "Otwórzmy plik z danymi i rzućmy okiem co w sobie zawiera"
      ]
    },
    {
      "cell_type": "code",
      "metadata": {
        "id": "7h6uwv5Z1gI8",
        "colab_type": "code",
        "colab": {}
      },
      "source": [
        "m_data = pd.read_csv('cumulative_mysterious_data.csv', header = None)\n",
        "m_data.head()"
      ],
      "execution_count": 0,
      "outputs": []
    },
    {
      "cell_type": "markdown",
      "metadata": {
        "id": "CxlTzD9KBpNZ",
        "colab_type": "text"
      },
      "source": [
        "Niewiele nam to mówi - spójrzmy na nieco statystyk dotyczących kolumny '1'"
      ]
    },
    {
      "cell_type": "code",
      "metadata": {
        "id": "MpTZxAC4BkJN",
        "colab_type": "code",
        "colab": {}
      },
      "source": [
        "m_data.describe()"
      ],
      "execution_count": 0,
      "outputs": []
    },
    {
      "cell_type": "markdown",
      "metadata": {
        "id": "Ukk8a9jP4-o6",
        "colab_type": "text"
      },
      "source": [
        "Zobaczmy dane na wykresie, żeby lepiej się zorientować o co chodzi w tych danych\n"
      ]
    },
    {
      "cell_type": "code",
      "metadata": {
        "colab_type": "code",
        "id": "d48hKfP139KH",
        "colab": {}
      },
      "source": [
        "plt.figure(figsize=(20, 6))\n",
        "plt.scatter(m_data[0], m_data[1]) #change scatter to plot?\n",
        "plt.xlabel('x') #let's change this after we see what's the data like\n",
        "plt.ylabel('y') #let's change this after we see what's the data like\n",
        "plt.title('Title') #let's change this after we see what's the data like\n",
        "plt.xticks(rotation=55)  # rotate x label to make it visible\n",
        "plt"
      ],
      "execution_count": 0,
      "outputs": []
    },
    {
      "cell_type": "markdown",
      "metadata": {
        "id": "Q6k0CiNq5HgW",
        "colab_type": "text"
      },
      "source": [
        "Spróbujmy zamodelować dane w jakiś ciekawy sposób, zacznijmy od modelu liniowego"
      ]
    },
    {
      "cell_type": "markdown",
      "metadata": {
        "id": "1Ejwi2zS5tTr",
        "colab_type": "text"
      },
      "source": [
        "y = ax + b"
      ]
    },
    {
      "cell_type": "code",
      "metadata": {
        "id": "XJOx1_GJ4Bax",
        "colab_type": "code",
        "colab": {}
      },
      "source": [
        "from sklearn.linear_model import LinearRegression"
      ],
      "execution_count": 0,
      "outputs": []
    },
    {
      "cell_type": "code",
      "metadata": {
        "id": "blZTu-XE6UDv",
        "colab_type": "code",
        "colab": {}
      },
      "source": [
        "m_data"
      ],
      "execution_count": 0,
      "outputs": []
    },
    {
      "cell_type": "code",
      "metadata": {
        "id": "WwPaHxIj5mND",
        "colab_type": "code",
        "colab": {}
      },
      "source": [
        "y = m_data[1].to_numpy() #casing to numpy array to have same type of values for y and t\n",
        "y"
      ],
      "execution_count": 0,
      "outputs": []
    },
    {
      "cell_type": "code",
      "metadata": {
        "id": "lYks5pmn6CVJ",
        "colab_type": "code",
        "colab": {}
      },
      "source": [
        "t = np.arange(0, 69, 1).reshape(-1, 1) # reshape, because linear model can take many arguments so each row has to be a list\n",
        "t[:5]\n"
      ],
      "execution_count": 0,
      "outputs": []
    },
    {
      "cell_type": "code",
      "metadata": {
        "id": "NBIyblMk6Y8B",
        "colab_type": "code",
        "colab": {}
      },
      "source": [
        "lm = LinearRegression() # object enabling modeling linear regression\n",
        "model = lm.fit(t, y)"
      ],
      "execution_count": 0,
      "outputs": []
    },
    {
      "cell_type": "code",
      "metadata": {
        "id": "GgtxuR1I6pji",
        "colab_type": "code",
        "colab": {}
      },
      "source": [
        "print(model.intercept_)\n",
        "print(model.coef_)"
      ],
      "execution_count": 0,
      "outputs": []
    },
    {
      "cell_type": "code",
      "metadata": {
        "id": "BehAP_mW7ljx",
        "colab_type": "code",
        "colab": {}
      },
      "source": [
        "predictions = model.predict(t)\n",
        "predictions"
      ],
      "execution_count": 0,
      "outputs": []
    },
    {
      "cell_type": "markdown",
      "metadata": {
        "id": "ZZC5bfVm9JZo",
        "colab_type": "text"
      },
      "source": [
        "Zobaczmy jak nasz model przewiduje liczbę zarażonych na Wielki Czwartek - 100 dzień roku\n"
      ]
    },
    {
      "cell_type": "code",
      "metadata": {
        "id": "t9nuhb6R7235",
        "colab_type": "code",
        "colab": {}
      },
      "source": [
        "model.predict([[100]])"
      ],
      "execution_count": 0,
      "outputs": []
    },
    {
      "cell_type": "code",
      "metadata": {
        "id": "TBi8fIXN89K2",
        "colab_type": "code",
        "colab": {}
      },
      "source": [
        "plt.figure(figsize=(20, 6))\n",
        "plt.scatter(m_data[0], m_data[1]) \n",
        "plt.plot(m_data[0], predictions)\n",
        "plt.xlabel('date')\n",
        "plt.ylabel('amount of infected people') \n",
        "plt.title('The total amount of people infected by the corona virus over time')\n",
        "plt.xticks(rotation=55)  # rotate x label to make it visible\n",
        "plt"
      ],
      "execution_count": 0,
      "outputs": []
    },
    {
      "cell_type": "markdown",
      "metadata": {
        "id": "xLDPNXq-_FeK",
        "colab_type": "text"
      },
      "source": [
        "Jak dobrze radzi sobie nasz model z opisywaniem zjawiska? Kiepskie strony, mocne strony?"
      ]
    },
    {
      "cell_type": "markdown",
      "metadata": {
        "id": "rxl1teZxBxSX",
        "colab_type": "text"
      },
      "source": [
        "Spróbujmy stworzyć inny model - nieliniowy"
      ]
    },
    {
      "cell_type": "code",
      "metadata": {
        "id": "OuHeGnHzA31S",
        "colab_type": "code",
        "colab": {}
      },
      "source": [
        "from scipy.optimize import curve_fit"
      ],
      "execution_count": 0,
      "outputs": []
    },
    {
      "cell_type": "code",
      "metadata": {
        "id": "sLJBbgJs_9kU",
        "colab_type": "code",
        "colab": {}
      },
      "source": [
        "def approximate_infected(t, c0, c1, c2):\n",
        "    return c0 + c1*(t**(c2))"
      ],
      "execution_count": 0,
      "outputs": []
    },
    {
      "cell_type": "code",
      "metadata": {
        "id": "-pz98YZlE3p8",
        "colab_type": "code",
        "colab": {}
      },
      "source": [
        "t = t.flatten() #t.flatten() because we just want a 1 dimensional array not 2d like for linear fitting function\n",
        "t"
      ],
      "execution_count": 0,
      "outputs": []
    },
    {
      "cell_type": "code",
      "metadata": {
        "id": "GSRe7LwUCwvX",
        "colab_type": "code",
        "colab": {}
      },
      "source": [
        "coefs, cov = curve_fit(approximate_infected, t, y)\n",
        "coefs"
      ],
      "execution_count": 0,
      "outputs": []
    },
    {
      "cell_type": "code",
      "metadata": {
        "id": "Aotwfk2rC3su",
        "colab_type": "code",
        "colab": {}
      },
      "source": [
        "non_lin_predictions = []\n",
        "for i in range(len(t)):\n",
        "  non_lin_predictions.append(approximate_infected(t[i], *coefs))\n",
        "np_non_lin_predictions = np.asarray(non_lin_predictions)\n",
        "np_non_lin_predictions"
      ],
      "execution_count": 0,
      "outputs": []
    },
    {
      "cell_type": "code",
      "metadata": {
        "id": "oYsqXBdeEoHe",
        "colab_type": "code",
        "colab": {}
      },
      "source": [
        "plt.figure(figsize=(20, 6))\n",
        "plt.scatter(m_data[0], m_data[1]) \n",
        "plt.plot(m_data[0], predictions)\n",
        "plt.plot(m_data[0], np_non_lin_predictions)\n",
        "plt.xlabel('date')\n",
        "plt.ylabel('amount of infected people') \n",
        "plt.title('The total amount of people infected by the corona virus over time')\n",
        "plt.xticks(rotation=55)  # rotate x label to make it visible\n",
        "plt"
      ],
      "execution_count": 0,
      "outputs": []
    },
    {
      "cell_type": "markdown",
      "metadata": {
        "id": "gIjzh1UyGymF",
        "colab_type": "text"
      },
      "source": [
        "Koniec wirusologii, czas na coś przyjemnego i czerwonego i podobno zwalczającego koronę - wino!"
      ]
    },
    {
      "cell_type": "code",
      "metadata": {
        "id": "D1wJRQEgG6Gf",
        "colab_type": "code",
        "colab": {}
      },
      "source": [
        "wine_data = pd.read_csv('winequality-red.csv', delimiter = ';') # See what happens if you remove the delimiter argument!\n",
        "wine_data"
      ],
      "execution_count": 0,
      "outputs": []
    },
    {
      "cell_type": "code",
      "metadata": {
        "id": "DB8f4i_RJWVx",
        "colab_type": "code",
        "colab": {}
      },
      "source": [
        "wine_data.describe()"
      ],
      "execution_count": 0,
      "outputs": []
    },
    {
      "cell_type": "code",
      "metadata": {
        "id": "6LMo8eixJyK7",
        "colab_type": "code",
        "colab": {}
      },
      "source": [
        "predictor_cols = [\n",
        "                  \"fixed acidity\",\n",
        "                  \"volatile acidity\",\n",
        "                  \"citric acid\",\n",
        "                  # \"residual sugar\",\n",
        "                  \"chlorides\", \n",
        "                  # \"free sulfur dioxide\",\n",
        "                  \"total sulfur dioxide\",\n",
        "                  # \"density\",\n",
        "                  # \"pH\",\n",
        "                  \"sulphates\",\n",
        "                  \"alcohol\",\n",
        "                  \"quality\"\n",
        "                  ]\n",
        "corr_data = wine_data[predictor_cols]\n",
        "corr_data.corr()[\"quality\"]"
      ],
      "execution_count": 0,
      "outputs": []
    },
    {
      "cell_type": "code",
      "metadata": {
        "id": "JBpWjP21Rrk1",
        "colab_type": "code",
        "colab": {}
      },
      "source": [
        "predictor_cols.remove(\"quality\") #we don't want this col for prediction, it was just needed for calculating correlations"
      ],
      "execution_count": 0,
      "outputs": []
    },
    {
      "cell_type": "code",
      "metadata": {
        "id": "bT7FDe1HHEMJ",
        "colab_type": "code",
        "colab": {}
      },
      "source": [
        "from sklearn.metrics import mean_squared_error, r2_score\n",
        "\n",
        "wine_x = wine_data[predictor_cols]\n",
        "wine_y = wine_data[\"quality\"]\n",
        "\n",
        "# Split the data into training/testing sets\n",
        "wine_x_train, wine_x_test = wine_x[:-320], wine_x[-320:]\n",
        "\n",
        "# Split the targets into training/testing sets\n",
        "wine_y_train, wine_y_test = wine_y[:-320], wine_y[-320:]\n",
        "\n",
        "# Train the model using the training sets\n",
        "lm.fit(wine_x_train, wine_y_train)\n",
        "\n",
        "# Make predictions using the testing set\n",
        "wine_y_pred = lm.predict(wine_x_test)\n",
        "\n",
        "# Intercept\n",
        "print('Intercept: \\n', lm.intercept_)\n",
        "\n",
        "# The coefficients\n",
        "print('Coefficients:')\n",
        "for i in range(len(predictor_cols)):\n",
        "  print('', wine_model.coef_[i], predictor_cols[i])\n",
        "# The mean squared error\n",
        "print('Mean squared error: %.2f'\n",
        "      % mean_squared_error(wine_y_test, wine_y_pred))\n",
        "# The coefficient of determination: 1 is perfect prediction\n",
        "print('Coefficient of determination: %.2f'\n",
        "      % r2_score(wine_y_test, wine_y_pred))\n"
      ],
      "execution_count": 0,
      "outputs": []
    },
    {
      "cell_type": "code",
      "metadata": {
        "id": "-2-hybsxKCkm",
        "colab_type": "code",
        "colab": {}
      },
      "source": [
        ""
      ],
      "execution_count": 0,
      "outputs": []
    }
  ]
}